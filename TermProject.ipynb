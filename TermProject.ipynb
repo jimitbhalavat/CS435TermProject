{
  "cells": [
    {
      "cell_type": "markdown",
      "metadata": {
        "id": "lucRBG59V0iL"
      },
      "source": [
        "# CS435 Term Project\n",
        "\n",
        "## Analyze Crime Rates to Help Mitigate Crimes in Chicago\n",
        "\n",
        "Team Members: Jimit Bhalavat, Logan Cuccia, Kyle Cummings, Mike Peyton"
      ]
    },
    {
      "cell_type": "markdown",
      "metadata": {
        "id": "opKm8tUEV0ig"
      },
      "source": [
        "### Description\n",
        "\n",
        "Chicago was once a pillar of prosperity and trade where companies housed their headquarters, where business partners formed coalitions, and where impactful business decisions were made. Today, it is still a major capital for trade, and some areas are very prosperous. Other sectors are rampant with crime, murder, theft, break-ins, and kidnappings. The crimes within some Chicago districts are so high that officers often don’t know whether they will return home that day to their families. Although there are countless factors contributing to the growing crime rate and law enforcement procedures, crimes are overwhelmingly complex and have to do with politics, state, and local government actions. The question arises how has crime changed over the years? Is it possible to predict where or when a crime will be committed? Which areas of the city have evolved over this time span?\n",
        "\n",
        "The goal of this project is to tackle how we can use data from these crimes to potentially stop them from becoming so frequent. It will also provide data summarizations such as the location and frequency of the crimes, and the nature of the crimes which can ultimately help mitigate crimes and help law enforcement agencies pinpoint where these crimes are more likely to occur, and which districts should have a higher abundance of police officers. This information can not only save the lives of citizens but also police officers who risk their lives every day to better their communities. It also ensures that these criminals have a higher likelihood of being caught since so many crimes in these districts go unsolved. The dataset contains attributes such as date, coordinates of the incident, district, the nature of the crime, etc. We will attempt to use these attributes to generate summarizations that will assist in the fight against crime as well as assist in the city’s economic future. "
      ]
    },
    {
      "cell_type": "markdown",
      "metadata": {
        "id": "fHRbGU2yV0ij"
      },
      "source": [
        "### Goal of the Project\n",
        "\n",
        "In order to solve this problem and help aid law enforcement agencies in Chicago, we will aim to analyze this dataset and run a variety of different processing techniques and models in order to interpret results and answer the questions mentioned above. This dataset is large and contains various attributes, so it is complex to analyze through normal methods. In order to process this data effectively and efficiently, we will use MapReduce to process the data and provide numerical summarizations such as the accuracy rates of prediction through Neural Networks, Random Forests, and K Means clustering. Other numerical summarizations will include the proportions of arrests made by the crimes committed, whether the trends in crimes have increased over the years, and if yes, what crimes are more likely to be committed. \n",
        "\n",
        "\n",
        "In this project, we aim to analyze the relationship between different types of crimes and the location they happened. In our research, we also aim to analyze the statistics of a few specific crimes: theft, homicide, and sexual harassment, and whether these crimes have declined or increased over the years. We aim to use a few of the packages available in Python3 such as Pandas (Dataframe), Numpy (Math), Seaborn and Matplotlib (Data Visualization), and Sklearn (Algorithms). The framework we plan to use is Hadoop or Spark. \n"
      ]
    },
    {
      "cell_type": "markdown",
      "metadata": {
        "id": "HGQ45GjuV0ip"
      },
      "source": [
        "### Data Description\n",
        "\n",
        "The dataset comes from Kaggle and reflects the reported incidents of crime in the City of Chicago from 2001 to 2017. The set excludes murders where data exists for each victim. This dataset is withdrawn from the Chicago Police Department’s Citizen Law Enforcement Analysis and Reporting System. The entire dataset spans around 2GB. In order to span the 16 years of data, the entire dataset has been broken down into four different CSV files. The entries of the files have attributes such as a unique identifier, block where the incident occurred, description of the location where the incident occurred, whether the incident was domestic-related, police district where the incident occurred, latitude, and longitude of the incident, to name a few. To protect the privacy of crime victims, the exact addresses of the crimes are not shared, but the location data included will allow us to pinpoint the general location of the crime. We can use the description attributes to categorize what type of crime was committed, and also filter based on other attributes such as whether an arrest was made, or whether the case was domestic."
      ]
    },
    {
      "cell_type": "code",
      "execution_count": 15,
      "metadata": {
        "colab": {
          "base_uri": "https://localhost:8080/"
        },
        "id": "zbW_EpoAV0ir",
        "outputId": "c6f611e9-1cf4-4f15-ca1f-908993c3983d"
      },
      "outputs": [],
      "source": [
        "import numpy as np\n",
        "import pandas as pd\n",
        "import matplotlib\n",
        "from datetime import datetime\n"
      ]
    },
    {
      "cell_type": "markdown",
      "metadata": {
        "id": "MxhcXlDcV0it"
      },
      "source": [
        "### Data Processing"
      ]
    },
    {
      "cell_type": "code",
      "execution_count": 16,
      "metadata": {
        "colab": {
          "base_uri": "https://localhost:8080/"
        },
        "id": "q8zc4Dp-V0iv",
        "outputId": "000e8f82-db72-4d18-9d54-552e3850aa3e"
      },
      "outputs": [
        {
          "name": "stdout",
          "output_type": "stream",
          "text": [
            "dt_object1 = 2015-05-09 01:30:00\n"
          ]
        }
      ],
      "source": [
        "dt_string = \"09/05/2015 01:30:00 PM\"\n",
        "\n",
        "# Considering date is in dd/mm/yyyy format\n",
        "dt_object1 = datetime.strptime(dt_string, \"%d/%m/%Y %H:%M:%S %p\")\n",
        "print(\"dt_object1 =\", dt_object1)\n"
      ]
    },
    {
      "cell_type": "code",
      "execution_count": 17,
      "metadata": {
        "colab": {
          "base_uri": "https://localhost:8080/",
          "height": 428
        },
        "id": "kzj5CDICV0ix",
        "outputId": "af50b053-a389-4484-f5a8-19ab3b422db1"
      },
      "outputs": [
        {
          "data": {
            "text/html": [
              "<div>\n",
              "<style scoped>\n",
              "    .dataframe tbody tr th:only-of-type {\n",
              "        vertical-align: middle;\n",
              "    }\n",
              "\n",
              "    .dataframe tbody tr th {\n",
              "        vertical-align: top;\n",
              "    }\n",
              "\n",
              "    .dataframe thead th {\n",
              "        text-align: right;\n",
              "    }\n",
              "</style>\n",
              "<table border=\"1\" class=\"dataframe\">\n",
              "  <thead>\n",
              "    <tr style=\"text-align: right;\">\n",
              "      <th></th>\n",
              "      <th>ID</th>\n",
              "      <th>Case Number</th>\n",
              "      <th>Date</th>\n",
              "      <th>Block</th>\n",
              "      <th>IUCR</th>\n",
              "      <th>Primary Type</th>\n",
              "      <th>Description</th>\n",
              "      <th>Location Description</th>\n",
              "      <th>Arrest</th>\n",
              "      <th>Domestic</th>\n",
              "      <th>...</th>\n",
              "      <th>Longitude</th>\n",
              "      <th>Location</th>\n",
              "      <th>Historical Wards 2003-2015</th>\n",
              "      <th>Zip Codes</th>\n",
              "      <th>Community Areas</th>\n",
              "      <th>Census Tracts</th>\n",
              "      <th>Wards</th>\n",
              "      <th>Boundaries - ZIP Codes</th>\n",
              "      <th>Police Districts</th>\n",
              "      <th>Police Beats</th>\n",
              "    </tr>\n",
              "  </thead>\n",
              "  <tbody>\n",
              "    <tr>\n",
              "      <th>0</th>\n",
              "      <td>10224738</td>\n",
              "      <td>HY411648</td>\n",
              "      <td>09/05/2015 01:30:00 PM</td>\n",
              "      <td>043XX S WOOD ST</td>\n",
              "      <td>0486</td>\n",
              "      <td>BATTERY</td>\n",
              "      <td>DOMESTIC BATTERY SIMPLE</td>\n",
              "      <td>RESIDENCE</td>\n",
              "      <td>False</td>\n",
              "      <td>True</td>\n",
              "      <td>...</td>\n",
              "      <td>-87.670000</td>\n",
              "      <td>(41.815117282, -87.669999562)</td>\n",
              "      <td>29.0</td>\n",
              "      <td>14924.0</td>\n",
              "      <td>59.0</td>\n",
              "      <td>706.0</td>\n",
              "      <td>3.0</td>\n",
              "      <td>37.0</td>\n",
              "      <td>23.0</td>\n",
              "      <td>108.0</td>\n",
              "    </tr>\n",
              "    <tr>\n",
              "      <th>1</th>\n",
              "      <td>10224739</td>\n",
              "      <td>HY411615</td>\n",
              "      <td>09/04/2015 11:30:00 AM</td>\n",
              "      <td>008XX N CENTRAL AVE</td>\n",
              "      <td>0870</td>\n",
              "      <td>THEFT</td>\n",
              "      <td>POCKET-PICKING</td>\n",
              "      <td>CTA BUS</td>\n",
              "      <td>False</td>\n",
              "      <td>False</td>\n",
              "      <td>...</td>\n",
              "      <td>-87.765400</td>\n",
              "      <td>(41.895080471, -87.765400451)</td>\n",
              "      <td>4.0</td>\n",
              "      <td>4299.0</td>\n",
              "      <td>26.0</td>\n",
              "      <td>562.0</td>\n",
              "      <td>45.0</td>\n",
              "      <td>5.0</td>\n",
              "      <td>25.0</td>\n",
              "      <td>67.0</td>\n",
              "    </tr>\n",
              "    <tr>\n",
              "      <th>2</th>\n",
              "      <td>11646166</td>\n",
              "      <td>JC213529</td>\n",
              "      <td>09/01/2018 12:01:00 AM</td>\n",
              "      <td>082XX S INGLESIDE AVE</td>\n",
              "      <td>0810</td>\n",
              "      <td>THEFT</td>\n",
              "      <td>OVER $500</td>\n",
              "      <td>RESIDENCE</td>\n",
              "      <td>False</td>\n",
              "      <td>True</td>\n",
              "      <td>...</td>\n",
              "      <td>NaN</td>\n",
              "      <td>NaN</td>\n",
              "      <td>NaN</td>\n",
              "      <td>NaN</td>\n",
              "      <td>NaN</td>\n",
              "      <td>NaN</td>\n",
              "      <td>NaN</td>\n",
              "      <td>NaN</td>\n",
              "      <td>NaN</td>\n",
              "      <td>NaN</td>\n",
              "    </tr>\n",
              "    <tr>\n",
              "      <th>3</th>\n",
              "      <td>10224740</td>\n",
              "      <td>HY411595</td>\n",
              "      <td>09/05/2015 12:45:00 PM</td>\n",
              "      <td>035XX W BARRY AVE</td>\n",
              "      <td>2023</td>\n",
              "      <td>NARCOTICS</td>\n",
              "      <td>POSS: HEROIN(BRN/TAN)</td>\n",
              "      <td>SIDEWALK</td>\n",
              "      <td>True</td>\n",
              "      <td>False</td>\n",
              "      <td>...</td>\n",
              "      <td>-87.716650</td>\n",
              "      <td>(41.937405765, -87.716649687)</td>\n",
              "      <td>15.0</td>\n",
              "      <td>21538.0</td>\n",
              "      <td>22.0</td>\n",
              "      <td>216.0</td>\n",
              "      <td>12.0</td>\n",
              "      <td>39.0</td>\n",
              "      <td>7.0</td>\n",
              "      <td>168.0</td>\n",
              "    </tr>\n",
              "    <tr>\n",
              "      <th>4</th>\n",
              "      <td>10224741</td>\n",
              "      <td>HY411610</td>\n",
              "      <td>09/05/2015 01:00:00 PM</td>\n",
              "      <td>0000X N LARAMIE AVE</td>\n",
              "      <td>0560</td>\n",
              "      <td>ASSAULT</td>\n",
              "      <td>SIMPLE</td>\n",
              "      <td>APARTMENT</td>\n",
              "      <td>False</td>\n",
              "      <td>True</td>\n",
              "      <td>...</td>\n",
              "      <td>-87.755121</td>\n",
              "      <td>(41.881903443, -87.755121152)</td>\n",
              "      <td>11.0</td>\n",
              "      <td>22216.0</td>\n",
              "      <td>26.0</td>\n",
              "      <td>696.0</td>\n",
              "      <td>23.0</td>\n",
              "      <td>32.0</td>\n",
              "      <td>25.0</td>\n",
              "      <td>81.0</td>\n",
              "    </tr>\n",
              "  </tbody>\n",
              "</table>\n",
              "<p>5 rows × 30 columns</p>\n",
              "</div>"
            ],
            "text/plain": [
              "         ID Case Number                    Date                  Block  IUCR  \\\n",
              "0  10224738    HY411648  09/05/2015 01:30:00 PM        043XX S WOOD ST  0486   \n",
              "1  10224739    HY411615  09/04/2015 11:30:00 AM    008XX N CENTRAL AVE  0870   \n",
              "2  11646166    JC213529  09/01/2018 12:01:00 AM  082XX S INGLESIDE AVE  0810   \n",
              "3  10224740    HY411595  09/05/2015 12:45:00 PM      035XX W BARRY AVE  2023   \n",
              "4  10224741    HY411610  09/05/2015 01:00:00 PM    0000X N LARAMIE AVE  0560   \n",
              "\n",
              "  Primary Type              Description Location Description  Arrest  \\\n",
              "0      BATTERY  DOMESTIC BATTERY SIMPLE            RESIDENCE   False   \n",
              "1        THEFT           POCKET-PICKING              CTA BUS   False   \n",
              "2        THEFT                OVER $500            RESIDENCE   False   \n",
              "3    NARCOTICS    POSS: HEROIN(BRN/TAN)             SIDEWALK    True   \n",
              "4      ASSAULT                   SIMPLE            APARTMENT   False   \n",
              "\n",
              "   Domestic  ...  Longitude                       Location  \\\n",
              "0      True  ... -87.670000  (41.815117282, -87.669999562)   \n",
              "1     False  ... -87.765400  (41.895080471, -87.765400451)   \n",
              "2      True  ...        NaN                            NaN   \n",
              "3     False  ... -87.716650  (41.937405765, -87.716649687)   \n",
              "4      True  ... -87.755121  (41.881903443, -87.755121152)   \n",
              "\n",
              "   Historical Wards 2003-2015  Zip Codes Community Areas  Census Tracts  \\\n",
              "0                        29.0    14924.0            59.0          706.0   \n",
              "1                         4.0     4299.0            26.0          562.0   \n",
              "2                         NaN        NaN             NaN            NaN   \n",
              "3                        15.0    21538.0            22.0          216.0   \n",
              "4                        11.0    22216.0            26.0          696.0   \n",
              "\n",
              "   Wards  Boundaries - ZIP Codes Police Districts  Police Beats  \n",
              "0    3.0                    37.0             23.0         108.0  \n",
              "1   45.0                     5.0             25.0          67.0  \n",
              "2    NaN                     NaN              NaN           NaN  \n",
              "3   12.0                    39.0              7.0         168.0  \n",
              "4   23.0                    32.0             25.0          81.0  \n",
              "\n",
              "[5 rows x 30 columns]"
            ]
          },
          "execution_count": 17,
          "metadata": {},
          "output_type": "execute_result"
        }
      ],
      "source": [
        "crimes_temp = pd.read_csv(\"../Crimes_-_2001_to_Present.csv\")\n",
        "crimes_temp.head()"
      ]
    },
    {
      "cell_type": "code",
      "execution_count": 18,
      "metadata": {
        "colab": {
          "base_uri": "https://localhost:8080/",
          "height": 428
        },
        "id": "cWq-Yfo_V0i9",
        "outputId": "b12c9436-983a-4b3a-aae1-9ce8abc61e8a"
      },
      "outputs": [
        {
          "data": {
            "text/html": [
              "<div>\n",
              "<style scoped>\n",
              "    .dataframe tbody tr th:only-of-type {\n",
              "        vertical-align: middle;\n",
              "    }\n",
              "\n",
              "    .dataframe tbody tr th {\n",
              "        vertical-align: top;\n",
              "    }\n",
              "\n",
              "    .dataframe thead th {\n",
              "        text-align: right;\n",
              "    }\n",
              "</style>\n",
              "<table border=\"1\" class=\"dataframe\">\n",
              "  <thead>\n",
              "    <tr style=\"text-align: right;\">\n",
              "      <th></th>\n",
              "      <th>ID</th>\n",
              "      <th>Case Number</th>\n",
              "      <th>Date</th>\n",
              "      <th>Block</th>\n",
              "      <th>Primary Type</th>\n",
              "      <th>Description</th>\n",
              "      <th>Arrest</th>\n",
              "      <th>Domestic</th>\n",
              "      <th>Beat</th>\n",
              "      <th>District</th>\n",
              "      <th>...</th>\n",
              "      <th>Latitude</th>\n",
              "      <th>Longitude</th>\n",
              "      <th>Historical Wards 2003-2015</th>\n",
              "      <th>Zip Codes</th>\n",
              "      <th>Community Areas</th>\n",
              "      <th>Census Tracts</th>\n",
              "      <th>Wards</th>\n",
              "      <th>Boundaries - ZIP Codes</th>\n",
              "      <th>Police Districts</th>\n",
              "      <th>Police Beats</th>\n",
              "    </tr>\n",
              "  </thead>\n",
              "  <tbody>\n",
              "    <tr>\n",
              "      <th>0</th>\n",
              "      <td>10224738</td>\n",
              "      <td>HY411648</td>\n",
              "      <td>09/05/2015 01:30:00 PM</td>\n",
              "      <td>043XX S WOOD ST</td>\n",
              "      <td>BATTERY</td>\n",
              "      <td>DOMESTIC BATTERY SIMPLE</td>\n",
              "      <td>False</td>\n",
              "      <td>True</td>\n",
              "      <td>924</td>\n",
              "      <td>9.0</td>\n",
              "      <td>...</td>\n",
              "      <td>41.815117</td>\n",
              "      <td>-87.670000</td>\n",
              "      <td>29.0</td>\n",
              "      <td>14924.0</td>\n",
              "      <td>59.0</td>\n",
              "      <td>706.0</td>\n",
              "      <td>3.0</td>\n",
              "      <td>37.0</td>\n",
              "      <td>23.0</td>\n",
              "      <td>108.0</td>\n",
              "    </tr>\n",
              "    <tr>\n",
              "      <th>1</th>\n",
              "      <td>10224739</td>\n",
              "      <td>HY411615</td>\n",
              "      <td>09/04/2015 11:30:00 AM</td>\n",
              "      <td>008XX N CENTRAL AVE</td>\n",
              "      <td>THEFT</td>\n",
              "      <td>POCKET-PICKING</td>\n",
              "      <td>False</td>\n",
              "      <td>False</td>\n",
              "      <td>1511</td>\n",
              "      <td>15.0</td>\n",
              "      <td>...</td>\n",
              "      <td>41.895080</td>\n",
              "      <td>-87.765400</td>\n",
              "      <td>4.0</td>\n",
              "      <td>4299.0</td>\n",
              "      <td>26.0</td>\n",
              "      <td>562.0</td>\n",
              "      <td>45.0</td>\n",
              "      <td>5.0</td>\n",
              "      <td>25.0</td>\n",
              "      <td>67.0</td>\n",
              "    </tr>\n",
              "    <tr>\n",
              "      <th>3</th>\n",
              "      <td>10224740</td>\n",
              "      <td>HY411595</td>\n",
              "      <td>09/05/2015 12:45:00 PM</td>\n",
              "      <td>035XX W BARRY AVE</td>\n",
              "      <td>NARCOTICS</td>\n",
              "      <td>POSS: HEROIN(BRN/TAN)</td>\n",
              "      <td>True</td>\n",
              "      <td>False</td>\n",
              "      <td>1412</td>\n",
              "      <td>14.0</td>\n",
              "      <td>...</td>\n",
              "      <td>41.937406</td>\n",
              "      <td>-87.716650</td>\n",
              "      <td>15.0</td>\n",
              "      <td>21538.0</td>\n",
              "      <td>22.0</td>\n",
              "      <td>216.0</td>\n",
              "      <td>12.0</td>\n",
              "      <td>39.0</td>\n",
              "      <td>7.0</td>\n",
              "      <td>168.0</td>\n",
              "    </tr>\n",
              "    <tr>\n",
              "      <th>4</th>\n",
              "      <td>10224741</td>\n",
              "      <td>HY411610</td>\n",
              "      <td>09/05/2015 01:00:00 PM</td>\n",
              "      <td>0000X N LARAMIE AVE</td>\n",
              "      <td>ASSAULT</td>\n",
              "      <td>SIMPLE</td>\n",
              "      <td>False</td>\n",
              "      <td>True</td>\n",
              "      <td>1522</td>\n",
              "      <td>15.0</td>\n",
              "      <td>...</td>\n",
              "      <td>41.881903</td>\n",
              "      <td>-87.755121</td>\n",
              "      <td>11.0</td>\n",
              "      <td>22216.0</td>\n",
              "      <td>26.0</td>\n",
              "      <td>696.0</td>\n",
              "      <td>23.0</td>\n",
              "      <td>32.0</td>\n",
              "      <td>25.0</td>\n",
              "      <td>81.0</td>\n",
              "    </tr>\n",
              "    <tr>\n",
              "      <th>5</th>\n",
              "      <td>10224742</td>\n",
              "      <td>HY411435</td>\n",
              "      <td>09/05/2015 10:55:00 AM</td>\n",
              "      <td>082XX S LOOMIS BLVD</td>\n",
              "      <td>BURGLARY</td>\n",
              "      <td>FORCIBLE ENTRY</td>\n",
              "      <td>False</td>\n",
              "      <td>False</td>\n",
              "      <td>614</td>\n",
              "      <td>6.0</td>\n",
              "      <td>...</td>\n",
              "      <td>41.744379</td>\n",
              "      <td>-87.658431</td>\n",
              "      <td>18.0</td>\n",
              "      <td>21554.0</td>\n",
              "      <td>70.0</td>\n",
              "      <td>575.0</td>\n",
              "      <td>13.0</td>\n",
              "      <td>59.0</td>\n",
              "      <td>20.0</td>\n",
              "      <td>237.0</td>\n",
              "    </tr>\n",
              "  </tbody>\n",
              "</table>\n",
              "<p>5 rows × 23 columns</p>\n",
              "</div>"
            ],
            "text/plain": [
              "         ID Case Number                    Date                Block  \\\n",
              "0  10224738    HY411648  09/05/2015 01:30:00 PM      043XX S WOOD ST   \n",
              "1  10224739    HY411615  09/04/2015 11:30:00 AM  008XX N CENTRAL AVE   \n",
              "3  10224740    HY411595  09/05/2015 12:45:00 PM    035XX W BARRY AVE   \n",
              "4  10224741    HY411610  09/05/2015 01:00:00 PM  0000X N LARAMIE AVE   \n",
              "5  10224742    HY411435  09/05/2015 10:55:00 AM  082XX S LOOMIS BLVD   \n",
              "\n",
              "  Primary Type              Description  Arrest  Domestic  Beat  District  \\\n",
              "0      BATTERY  DOMESTIC BATTERY SIMPLE   False      True   924       9.0   \n",
              "1        THEFT           POCKET-PICKING   False     False  1511      15.0   \n",
              "3    NARCOTICS    POSS: HEROIN(BRN/TAN)    True     False  1412      14.0   \n",
              "4      ASSAULT                   SIMPLE   False      True  1522      15.0   \n",
              "5     BURGLARY           FORCIBLE ENTRY   False     False   614       6.0   \n",
              "\n",
              "   ...   Latitude  Longitude  Historical Wards 2003-2015  Zip Codes  \\\n",
              "0  ...  41.815117 -87.670000                        29.0    14924.0   \n",
              "1  ...  41.895080 -87.765400                         4.0     4299.0   \n",
              "3  ...  41.937406 -87.716650                        15.0    21538.0   \n",
              "4  ...  41.881903 -87.755121                        11.0    22216.0   \n",
              "5  ...  41.744379 -87.658431                        18.0    21554.0   \n",
              "\n",
              "   Community Areas  Census Tracts  Wards  Boundaries - ZIP Codes  \\\n",
              "0             59.0          706.0    3.0                    37.0   \n",
              "1             26.0          562.0   45.0                     5.0   \n",
              "3             22.0          216.0   12.0                    39.0   \n",
              "4             26.0          696.0   23.0                    32.0   \n",
              "5             70.0          575.0   13.0                    59.0   \n",
              "\n",
              "   Police Districts  Police Beats  \n",
              "0              23.0         108.0  \n",
              "1              25.0          67.0  \n",
              "3               7.0         168.0  \n",
              "4              25.0          81.0  \n",
              "5              20.0         237.0  \n",
              "\n",
              "[5 rows x 23 columns]"
            ]
          },
          "execution_count": 18,
          "metadata": {},
          "output_type": "execute_result"
        }
      ],
      "source": [
        "crimes = crimes_temp.drop(['IUCR', 'FBI Code', 'X Coordinate','Y Coordinate', 'Updated On', 'Location', 'Location Description'], axis = 1)\n",
        "crimes = crimes.dropna()\n",
        "crimes.isnull().sum()\n",
        "crimes.head()"
      ]
    },
    {
      "cell_type": "code",
      "execution_count": 19,
      "metadata": {
        "id": "_0QOZvUAV0i_"
      },
      "outputs": [],
      "source": [
        "crimes['Description'] = crimes['Description'].str.replace(',', '/')"
      ]
    },
    {
      "cell_type": "markdown",
      "metadata": {
        "id": "MFfeKOoJV0jB"
      },
      "source": [
        "### Map Reduce"
      ]
    },
    {
      "cell_type": "markdown",
      "metadata": {
        "id": "RyiBctbcV0jD"
      },
      "source": [
        "### KNN"
      ]
    },
    {
      "cell_type": "code",
      "execution_count": 20,
      "metadata": {
        "id": "lb_4TqB_V0jE"
      },
      "outputs": [],
      "source": [
        "#Extra Columns I found that are not documented on the website.\n",
        "crimes = crimes.drop(['Historical Wards 2003-2015', 'Zip Codes', 'Community Areas', 'Census Tracts', 'Wards', 'Boundaries - ZIP Codes', 'Police Districts', 'Police Beats','Case Number','Date','Block','Description', 'District'], axis = 1)"
      ]
    },
    {
      "cell_type": "code",
      "execution_count": 21,
      "metadata": {
        "id": "frB8JlWjV0jE"
      },
      "outputs": [],
      "source": [
        "from sklearn.neighbors import KNeighborsClassifier\n",
        "from sklearn.model_selection import train_test_split\n",
        "from sklearn import metrics\n",
        "import matplotlib.pyplot as plt\n",
        "import seaborn as sns"
      ]
    },
    {
      "cell_type": "code",
      "execution_count": 22,
      "metadata": {},
      "outputs": [
        {
          "name": "stdout",
          "output_type": "stream",
          "text": [
            "Types being used: ['ID', 'Arrest', 'Domestic', 'Beat', 'Ward', 'Community Area', 'Year', 'Latitude', 'Longitude', 'PrimTypeInt']\n"
          ]
        }
      ],
      "source": [
        "crimes['PrimTypeInt'] = crimes['Primary Type'].rank(method='dense', ascending=False).astype(int)\n",
        "crimes = crimes.drop(['Primary Type'], axis = 1)\n",
        "types = []\n",
        "typeFlag = False\n",
        "for item in crimes.columns:\n",
        "    typeFlag = False\n",
        "    for t in types:\n",
        "        if(t == item):\n",
        "            typeFlag = True\n",
        "    if not typeFlag:\n",
        "      types.append(item)       \n",
        "print(f'Types being used: {types}')"
      ]
    },
    {
      "cell_type": "code",
      "execution_count": 23,
      "metadata": {
        "id": "rSJwqX02rwin"
      },
      "outputs": [],
      "source": [
        "def plot_correlation(data):\n",
        "    # plot correlation's matrix to explore dependency between features \n",
        "    fig = plt.figure(figsize= (7, 7))\n",
        "    cor = data.corr()\n",
        "    sns.heatmap(cor, annot=True, fmt=\".2f\")\n",
        "    plt.show()"
      ]
    },
    {
      "cell_type": "code",
      "execution_count": 25,
      "metadata": {
        "colab": {
          "base_uri": "https://localhost:8080/",
          "height": 1000
        },
        "id": "kmmbLDn9r6CO",
        "outputId": "6a2aa380-fcfa-40e2-a2cc-9c7902ba8051"
      },
      "outputs": [
        {
          "data": {
            "image/png": "[encoded data removed]",
            "text/plain": [
              "<Figure size 700x700 with 2 Axes>"
            ]
          },
          "metadata": {},
          "output_type": "display_data"
        }
      ],
      "source": [
        "plot_correlation(crimes)"
      ]
    },
    {
      "cell_type": "code",
      "execution_count": 26,
      "metadata": {
        "id": "iWWOKhoDV0jE"
      },
      "outputs": [],
      "source": [
        "def split_70_30(df) :\n",
        "    #Using Latitude and Longitude as features\n",
        "    X = df[['Latitude', 'Longitude']].values\n",
        "    y = df['PrimTypeInt'].values\n",
        "    X_train, X_test, y_train, y_test = train_test_split(X, y, test_size=0.5, stratify=y, random_state=42)\n",
        "    return X_train, X_test, y_train, y_test\n",
        "\n",
        "def run_nearest_neighbor(df, k) :\n",
        "    X_train, X_test, y_train, y_test = split_70_30(df)\n",
        "    print(f'Creating KNeigborsClassifier: k = {k}')\n",
        "    print('Fitting...')\n",
        "    knn1 = KNeighborsClassifier(k)\n",
        "    knn1.fit(X_train, y_train)\n",
        "    print('Finished fitting model..')\n",
        "    print('Predicting...')\n",
        "    y_pred1 = knn1.predict(X_test)\n",
        "    print('Finished predicting..')\n",
        "    print(f'The np.mean(y_pred1==y_test) accuracy: {np.mean(y_pred1==y_test):1.3f}\\n')\n",
        "    print(f'Accuracy: {metrics.accuracy_score(y_test, y_pred1):1.3f}\\n')\n",
        "    print(f\"F1 score: {metrics.f1_score(y_test, y_pred1, average = 'weighted'):1.3f}\\n\")"
      ]
    },
    {
      "cell_type": "code",
      "execution_count": 28,
      "metadata": {
        "colab": {
          "base_uri": "https://localhost:8080/",
          "height": 375
        },
        "id": "Xx23MGhBV0jJ",
        "outputId": "1a50a7dc-d3f1-44a9-bc37-e29ca6da1ec7"
      },
      "outputs": [
        {
          "name": "stdout",
          "output_type": "stream",
          "text": [
            "knn for a k of 15\n",
            "Fitting...\n",
            "Finished fitting model..\n",
            "Finished predicting..\n",
            "The np.mean(y_pred1==y_test) accuracy: 0.282\n",
            "\n",
            "Accuracy: 0.282\n",
            "\n",
            "F1 score: 0.243\n",
            "\n"
          ]
        }
      ],
      "source": [
        "run_nearest_neighbor(crimes, 15)"
      ]
    },
    {
      "cell_type": "markdown",
      "metadata": {
        "id": "OLyJjkOGV0jL"
      },
      "source": [
        "### Neural Networks"
      ]
    },
    {
      "cell_type": "markdown",
      "metadata": {
        "id": "FfM2ZuLaV0jL"
      },
      "source": [
        "### K-Means Clustering"
      ]
    },
    {
      "cell_type": "markdown",
      "metadata": {
        "id": "RfzVqQO2V0jM"
      },
      "source": [
        "### Random Forests"
      ]
    },
    {
      "cell_type": "code",
      "execution_count": null,
      "metadata": {
        "id": "PS6oQki2V0jN"
      },
      "outputs": [],
      "source": [
        "from pyspark import SparkContext\n",
        "from pyspark.sql import SparkSession\n",
        "from pyspark.sql import DataFrame\n",
        "from pyspark.sql.functions import format_number, when, col, array, udf, lit\n",
        "import pandas as pd\n",
        "from pyspark.ml.feature import VectorAssembler, StringIndexer, VectorIndexer, IndexToString\n",
        "from pyspark.ml.classification import RandomForestClassifier\n",
        "from pyspark.ml.evaluation import MulticlassClassificationEvaluator\n",
        "from pyspark.ml import Pipeline\n",
        "from pyspark.sql.types import *\n",
        "import pyspark.sql.functions as F\n",
        "import matplotlib.pyplot as plt"
      ]
    },
    {
      "cell_type": "code",
      "execution_count": null,
      "metadata": {
        "id": "siXir7u6V0jN"
      },
      "outputs": [],
      "source": [
        "\n",
        "spark = SparkSession.builder.appName(\"Project - Chicago crime\").config(\"spark.some.config.option\", \"some-value\").config(\"spark.driver.memory\", \"8g\").config(\"spark.driver.cores\", \"3\").getOrCreate()"
      ]
    },
    {
      "cell_type": "code",
      "execution_count": null,
      "metadata": {
        "id": "5QlcCs0IV0jO"
      },
      "outputs": [],
      "source": [
        "\n",
        "crimes_schema = StructType([StructField(\"ID\", StringType(), True),\n",
        "                            StructField(\"Case Number\", StringType(), True),\n",
        "                            StructField(\"Date\", StringType(), True ),\n",
        "                            StructField(\"Block\", StringType(), True),\n",
        "                            StructField(\"IUCR\", StringType(), True),\n",
        "                            StructField(\"Primary Type\", StringType(), True  ),\n",
        "                            StructField(\"Description\", StringType(), True ),\n",
        "                            StructField(\"Location Description\", StringType(), True ),\n",
        "                            StructField(\"Arrest\", BooleanType(), True),\n",
        "                            StructField(\"Domestic\", BooleanType(), True),\n",
        "                            StructField(\"Beat\", StringType(), True),\n",
        "                            StructField(\"District\", StringType(), True),\n",
        "                            StructField(\"Ward\", StringType(), True),\n",
        "                            StructField(\"Community Area\", StringType(), True),\n",
        "                            StructField(\"FBI Code\", StringType(), True ),\n",
        "                            StructField(\"X Coordinate\", DoubleType(), True),\n",
        "                            StructField(\"Y Coordinate\", DoubleType(), True ),\n",
        "                            StructField(\"Year\", IntegerType(), True),\n",
        "                            StructField(\"Updated On\", DateType(), True ),\n",
        "                            StructField(\"Latitude\", DoubleType(), True),\n",
        "                            StructField(\"Longitude\", DoubleType(), True),\n",
        "                            StructField(\"Location\", StringType(), True )\n",
        "                            ])"
      ]
    },
    {
      "cell_type": "code",
      "execution_count": null,
      "metadata": {
        "id": "OMYiCICOV0jP"
      },
      "outputs": [],
      "source": [
        "dataset = spark.read.option(\"header\", \"True\").option(\"inferSchema\", \"true\").csv(\"../Crimes_-_2001_to_present.csv\")"
      ]
    },
    {
      "cell_type": "code",
      "execution_count": null,
      "metadata": {
        "id": "2tSbTurtV0jP"
      },
      "outputs": [],
      "source": [
        "dataset.limit(5).toPandas().head()"
      ]
    },
    {
      "cell_type": "code",
      "execution_count": null,
      "metadata": {
        "id": "MmXKaPAaV0jQ"
      },
      "outputs": [],
      "source": [
        "dataset = dataset.filter((dataset['Primary Type']!='STALKING')&\n",
        "                             (dataset['Primary Type']!='OBSCENITY')&\n",
        "                             (dataset['Primary Type']!='NON-CRIMINAL (SUBJECT SPECIFIED)')&\n",
        "                             (dataset['Primary Type']!='GAMBLING')&\n",
        "                             (dataset['Primary Type']!='NON - CRIMINAL')&\n",
        "                             (dataset['Primary Type']!='LIQUOR LAW VIOLATION')&\n",
        "                             (dataset['Primary Type']!='PUBLIC INDECENCY')&\n",
        "                             (dataset['Primary Type']!='HUMAN TRAFFICKING')&\n",
        "                             (dataset['Primary Type']!='INTIMIDATION')&\n",
        "                             (dataset['Primary Type']!='CONCEALED CARRY LICENSE VIOLATION')&\n",
        "                             (dataset['Primary Type']!='NON-CRIMINAL')&\n",
        "                             (dataset['Primary Type']!='OTHER NARCOTIC VIOLATION'))"
      ]
    },
    {
      "cell_type": "code",
      "execution_count": null,
      "metadata": {
        "id": "HIZNKBigV0jR"
      },
      "outputs": [],
      "source": [
        "\n",
        "dataset = dataset.withColumn(\"Day\", F.split(dataset.Date, \" \")[0])\n",
        "dataset = dataset.withColumn(\"Day\", F.to_date(dataset.Day, \"MM/dd/yyyy\"))\n",
        "dataset = dataset.withColumn(\"Month\", F.month(dataset.Day))\n",
        "dataset = dataset.withColumn(\"WeekDay\", F.dayofweek(dataset.Day))\n",
        "dataset = dataset.withColumn(\"Hour\", F.split(F.split(dataset.Date,\" \")[1], \":\")[0].cast(\"int\"))\n",
        "dataset = dataset.na.drop()\n",
        "dataset.limit(5).toPandas().head()"
      ]
    },
    {
      "cell_type": "code",
      "execution_count": null,
      "metadata": {
        "id": "dEokjj4NV0jR"
      },
      "outputs": [],
      "source": [
        "\n",
        "dataset = dataset.withColumn(\"Primary Type\", \\\n",
        "                               when((dataset[\"Primary Type\"] == 'CRIM SEXUAL ASSAULT') | \\\n",
        "                                    (dataset[\"Primary Type\"] == 'PROSTITUTION') ,'SEX OFFENSE').otherwise(dataset['Primary Type']))\n",
        "dataset = dataset.withColumn(\"Primary Type\", \\\n",
        "                               when((dataset[\"Primary Type\"] == 'WEAPONS VIOLATION') | \\\n",
        "                                    (dataset[\"Primary Type\"] == 'INTERFERENCE WITH PUBLIC OFFICER') ,'PUBLIC PEACE VIOLATION').otherwise(dataset['Primary Type']))\n",
        "dataset = dataset.withColumn(\"Primary Type\", \\\n",
        "                               when((dataset[\"Primary Type\"] == 'ARSON') ,'CRIMINAL TRESPASS').otherwise(dataset['Primary Type']))"
      ]
    },
    {
      "cell_type": "code",
      "execution_count": null,
      "metadata": {
        "id": "VzByvt52V0jS"
      },
      "outputs": [],
      "source": [
        "dataset = dataset.na.drop()\n",
        "dataset = dataset.drop('ID')\n",
        "dataset = dataset.drop('Case Number')\n",
        "dataset = dataset.drop('Block')\n",
        "dataset = dataset.drop('IUCR')\n",
        "dataset = dataset.drop('FBI Code')\n",
        "dataset = dataset.drop('Updated On')\n",
        "dataset = dataset.drop('X Coordinate')\n",
        "dataset = dataset.drop('Y Coordinate')\n",
        "dataset = dataset.drop('Description')\n",
        "dataset = dataset.drop('Location')\n",
        "dataset = dataset.drop('Date')\n",
        "dataset.limit(5).toPandas().head(5)"
      ]
    },
    {
      "cell_type": "code",
      "execution_count": null,
      "metadata": {
        "id": "r0LFTvyxV0jS"
      },
      "outputs": [],
      "source": [
        "vector_assembler = VectorAssembler(inputCols = [\"Latitude\", \"Longitude\"], outputCol=\"features\")\n",
        "df_temp = vector_assembler.transform(dataset)\n",
        "featureIndexer = VectorIndexer(inputCol=\"features\", outputCol=\"indexedFeatures\").fit(df_temp)\n",
        "\n",
        "\n",
        "labelIndexer = StringIndexer(inputCol=\"Primary Type\", outputCol=\"indexedLabel\").fit(df_temp)\n",
        "labelConverter = IndexToString(inputCol=\"prediction\", outputCol=\"predictedLabel\", labels=labelIndexer.labels)\n",
        "\n",
        "\n",
        "(trainingData, testData) = df_temp.randomSplit([0.7, 0.3])\n",
        "rf = RandomForestClassifier(labelCol=\"indexedLabel\", featuresCol=\"indexedFeatures\", numTrees=10,impurity='gini', maxBins=32)\n",
        "\n",
        "pipeline = Pipeline(stages=[labelIndexer, featureIndexer, rf,labelConverter])\n",
        "\n",
        "model = pipeline.fit(trainingData)\n",
        "\n",
        "predictions = model.transform(testData)\n",
        "\n",
        "evaluator = MulticlassClassificationEvaluator(labelCol=\"indexedLabel\", predictionCol=\"prediction\", metricName=\"accuracy\")\n",
        "evaluator2 = MulticlassClassificationEvaluator(labelCol=\"indexedLabel\", predictionCol=\"prediction\", metricName=\"f1\")\n",
        "\n",
        "accuracy = evaluator.evaluate(predictions)\n",
        "f1 = evaluator2.evaluate(predictions)\n",
        "\n",
        "\n",
        "print(\"accuracy = %g\" % (accuracy))\n",
        "print(\"f1 score = %g\" % (f1))\n",
        "\n",
        "predictions.groupBy(\"predictedLabel\").count().show()"
      ]
    },
    {
      "cell_type": "code",
      "execution_count": null,
      "metadata": {
        "id": "EfUGlie8V0jS"
      },
      "outputs": [],
      "source": [
        "from pyspark.ml.feature import OneHotEncoder\n",
        "locationIndexer = StringIndexer(inputCol=\"Location Description\", outputCol=\"indexedLocation\").fit(dataset).transform(dataset)\n",
        "encoded_data = OneHotEncoder(inputCols=[\"indexedLocation\"],outputCols=[\"encodedLocation\"]).fit(locationIndexer).transform(locationIndexer)"
      ]
    },
    {
      "cell_type": "code",
      "execution_count": null,
      "metadata": {
        "id": "w0d3zSe0V0jT"
      },
      "outputs": [],
      "source": [
        "\n",
        "vector_assembler = VectorAssembler(inputCols = [\"Latitude\", \"Longitude\", \"Arrest\", \"Beat\", \"Ward\", \"Community Area\", \"WeekDay\", \"Hour\", \"encodedLocation\"], outputCol=\"features\")\n",
        "df_temp = vector_assembler.transform(encoded_data)\n",
        "featureIndexer =VectorIndexer(inputCol=\"features\", outputCol=\"indexedFeatures\").fit(df_temp)\n",
        "\n",
        "labelIndexer = StringIndexer(inputCol=\"Primary Type\", outputCol=\"indexedLabel\").fit(df_temp)\n",
        "labelConverter = IndexToString(inputCol=\"prediction\", outputCol=\"predictedLabel\",labels=labelIndexer.labels)\n",
        "\n",
        "(trainingData, testData) = df_temp.randomSplit([0.7, 0.3])\n",
        "rf = RandomForestClassifier(labelCol=\"indexedLabel\", featuresCol=\"indexedFeatures\", numTrees=10,impurity='gini', maxBins=32)\n",
        "\n",
        "pipeline = Pipeline(stages=[labelIndexer, featureIndexer, rf,labelConverter])\n",
        "\n",
        "model = pipeline.fit(trainingData)\n",
        "\n",
        "predictions = model.transform(testData)\n",
        "\n",
        "evaluator = MulticlassClassificationEvaluator(labelCol=\"indexedLabel\", predictionCol=\"prediction\", metricName=\"accuracy\")\n",
        "evaluator2 = MulticlassClassificationEvaluator(labelCol=\"indexedLabel\", predictionCol=\"prediction\", metricName=\"f1\")\n",
        "\n",
        "accuracy = evaluator.evaluate(predictions)\n",
        "f1 = evaluator2.evaluate(predictions)\n",
        "\n",
        "print(\"accuracy = %g\" % (accuracy))\n",
        "print(\"f1 score = %g\" % (f1))\n",
        "\n",
        "predictions.groupBy(\"predictedLabel\").count().show()"
      ]
    },
    {
      "cell_type": "code",
      "execution_count": null,
      "metadata": {
        "id": "fg3Vy7b7V0ja"
      },
      "outputs": [],
      "source": [
        "\n",
        "labels = labelIndexer.labels\n",
        "prediction_probility= predictions.select(\"predictedLabel\", \"Primary Type\",\"Latitude\",\"Longitude\",\"probability\")\n",
        "\n",
        "def addCrimeIndex(li):\n",
        "    dic = {}\n",
        "    for i in range(len(labels)):\n",
        "        dic[labels[i]]=li[i]\n",
        "    return dic\n",
        "\n",
        "probability_to_array = udf(lambda v: v.toArray().tolist(), ArrayType(FloatType()))\n",
        "prediction_probility = prediction_probility.withColumn('probability', probability_to_array(prediction_probility.probability))\n",
        "\n",
        "probability_to_dict = udf(addCrimeIndex)\n",
        "\n",
        "prediction_probility = prediction_probility.withColumn('probability', probability_to_dict(prediction_probility.probability))\n",
        "\n",
        "pd.set_option('display.max_colwidth', -1)\n",
        "prediction_probility.limit(5).toPandas().head(5)"
      ]
    },
    {
      "cell_type": "code",
      "execution_count": null,
      "metadata": {
        "id": "6PxsK8BtV0jb"
      },
      "outputs": [],
      "source": []
    }
  ],
  "metadata": {
    "colab": {
      "collapsed_sections": [],
      "name": "TermProject.ipynb",
      "provenance": []
    },
    "interpreter": {
      "hash": "a89755a7755460ff2176e4794907028d6befaf390e95bf362d3e2b425eb9505d"
    },
    "kernelspec": {
      "display_name": "Python 3",
      "language": "python",
      "name": "python3"
    },
    "language_info": {
      "codemirror_mode": {
        "name": "ipython",
        "version": 3
      },
      "file_extension": ".py",
      "mimetype": "text/x-python",
      "name": "python",
      "nbconvert_exporter": "python",
      "pygments_lexer": "ipython3",
      "version": "3.8.8"
    }
  },
  "nbformat": 4,
  "nbformat_minor": 0
}
